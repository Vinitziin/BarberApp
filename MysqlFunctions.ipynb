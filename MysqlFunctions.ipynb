{
 "cells": [
  {
   "cell_type": "code",
   "execution_count": 8,
   "metadata": {},
   "outputs": [
    {
     "name": "stderr",
     "output_type": "stream",
     "text": [
      "C:\\Users\\vinit\\AppData\\Local\\Temp\\ipykernel_16996\\2253996949.py:5: MovedIn20Warning: The ``declarative_base()`` function is now available as sqlalchemy.orm.declarative_base(). (deprecated since: 2.0) (Background on SQLAlchemy 2.0 at: https://sqlalche.me/e/b8d9)\n",
      "  Base = declarative_base()\n"
     ]
    }
   ],
   "source": [
    "from sqlalchemy import create_engine, Column, Integer, String, Date, Time, ForeignKey, DECIMAL\n",
    "from sqlalchemy.ext.declarative import declarative_base\n",
    "from sqlalchemy.orm import relationship, sessionmaker\n",
    "import json\n",
    "Base = declarative_base()\n",
    "\n",
    "class Funcionario(Base):\n",
    "    __tablename__ = 'funcionario'\n",
    "    id_funcionario = Column(Integer, primary_key=True, autoincrement=True)\n",
    "    nome = Column(String(255), nullable=False)\n",
    "    contato = Column(String(255), nullable=False)\n",
    "    cargo = Column(String(255), nullable=False)\n",
    "\n",
    "class Servico(Base):\n",
    "    __tablename__ = 'servico'\n",
    "    id_servico = Column(Integer, primary_key=True, autoincrement=True)\n",
    "    descricao = Column(String(255), nullable=False)\n",
    "    preco = Column(DECIMAL(10, 2), nullable=False)\n",
    "    duracao = Column(Time, nullable=False)\n",
    "\n",
    "class Cliente(Base):\n",
    "    __tablename__ = 'cliente'\n",
    "    id_cliente = Column(Integer, primary_key=True, autoincrement=True)\n",
    "    nome = Column(String(255), nullable=False)\n",
    "    email = Column(String(255), nullable=False)\n",
    "    telefone = Column(String(255), nullable=False)\n",
    "    endereco = Column(String(255), nullable=False)\n",
    "    dt_nascimento = Column(Date, nullable=False)\n",
    "    genero = Column(String(15), nullable=False)\n",
    "\n",
    "class Agendamento(Base):\n",
    "    __tablename__ = 'agendamento'\n",
    "    id_agendamento = Column(Integer, primary_key=True, autoincrement=True)\n",
    "    id_cliente = Column(Integer, ForeignKey('cliente.id_cliente'))\n",
    "    id_servico = Column(Integer, ForeignKey('servico.id_servico'))\n",
    "    id_funcionario = Column(Integer, ForeignKey('funcionario.id_funcionario'))\n",
    "    data = Column(Date)\n",
    "    hora = Column(Time)\n",
    "    cliente = relationship(\"Cliente\")\n",
    "    servico = relationship(\"Servico\")\n",
    "    funcionario = relationship(\"Funcionario\")\n",
    "\n",
    "\n",
    "with open('credenciais.json', 'r') as f:\n",
    "    config = json.load(f)\n",
    "\n",
    "engine = create_engine(config['database']['connection_string'])\n",
    "Base.metadata.create_all(engine)"
   ]
  }
 ],
 "metadata": {
  "kernelspec": {
   "display_name": "Python 3",
   "language": "python",
   "name": "python3"
  },
  "language_info": {
   "codemirror_mode": {
    "name": "ipython",
    "version": 3
   },
   "file_extension": ".py",
   "mimetype": "text/x-python",
   "name": "python",
   "nbconvert_exporter": "python",
   "pygments_lexer": "ipython3",
   "version": "3.11.3"
  }
 },
 "nbformat": 4,
 "nbformat_minor": 2
}
